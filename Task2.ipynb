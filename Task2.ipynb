{
 "cells": [
  {
   "cell_type": "code",
   "execution_count": 1,
   "id": "f05eb52e",
   "metadata": {},
   "outputs": [],
   "source": [
    "import numpy as np\n",
    "import math\n",
    "import matplotlib.pyplot as plt\n",
    "import pandas as pd\n",
    "import scipy.special as sp\n",
    "from decimal import Decimal"
   ]
  },
  {
   "cell_type": "code",
   "execution_count": 2,
   "id": "73d60e32",
   "metadata": {},
   "outputs": [],
   "source": [
    "def fact(n):\n",
    "    f=1\n",
    "    for i in range(2, n+1):\n",
    "        f=f*i\n",
    "    return f"
   ]
  },
  {
   "cell_type": "code",
   "execution_count": 11,
   "id": "ae6e5ec8",
   "metadata": {},
   "outputs": [],
   "source": [
    "data = pd.DataFrame(columns=['x_i','n','sum1','sum2'])\n",
    "\n",
    "x = -20\n",
    "for i in range(100):\n",
    "    coef2 = []\n",
    "    sum = 1\n",
    "    n = 0\n",
    "\n",
    "    while abs(sum) >= math.e**(-8):\n",
    "        sum = (-1)**n*x**(2*n+1)/(fact(n)*fact(n+1)*2**(2*n+1))\n",
    "        coef2.append(sum)\n",
    "        n+=1\n",
    "    sum_1 = 0\n",
    "    if n >= 100:\n",
    "        n = 100\n",
    "        \n",
    "    for i in range(n):\n",
    "        sum_1+=coef2[i]\n",
    "        \n",
    "    \n",
    "    coef2.sort()\n",
    "    sum_2=0\n",
    "    for i in range(n):\n",
    "        sum_2+=coef2[i]\n",
    "    \n",
    "    \n",
    "    result = ['{:.15f}'.format(x),'{:.15f}'.format(n),'{:.15f}'.format(sum_1),'{:.15f}'.format(sum_2)]\n",
    "    data.loc[len(data)] = result\n",
    "    x+=0.2"
   ]
  },
  {
   "cell_type": "code",
   "execution_count": 12,
   "id": "8ca48295",
   "metadata": {},
   "outputs": [],
   "source": [
    "data['sum1']=data['sum1'].astype(float)\n",
    "data['sum2']=data['sum2'].astype(float)\n",
    "data.to_csv('out.csv')"
   ]
  },
  {
   "cell_type": "code",
   "execution_count": null,
   "id": "65bb9f0b",
   "metadata": {},
   "outputs": [],
   "source": []
  }
 ],
 "metadata": {
  "kernelspec": {
   "display_name": "Python 3 (ipykernel)",
   "language": "python",
   "name": "python3"
  },
  "language_info": {
   "codemirror_mode": {
    "name": "ipython",
    "version": 3
   },
   "file_extension": ".py",
   "mimetype": "text/x-python",
   "name": "python",
   "nbconvert_exporter": "python",
   "pygments_lexer": "ipython3",
   "version": "3.10.9"
  }
 },
 "nbformat": 4,
 "nbformat_minor": 5
}
